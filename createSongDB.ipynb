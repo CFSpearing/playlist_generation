{
 "cells": [
  {
   "cell_type": "code",
   "execution_count": 1,
   "metadata": {},
   "outputs": [],
   "source": [
    "import pickle\n",
    "import pandas as pd\n",
    "import sqlite3\n",
    "\n",
    "features_df = pickle.load(open('features_df_norm.pckl','rb'))\n",
    "\n",
    "song_df = pickle.load(open('full_songs_df.pckl','rb'))"
   ]
  },
  {
   "cell_type": "code",
   "execution_count": 2,
   "metadata": {},
   "outputs": [
    {
     "data": {
      "text/plain": [
       "title                     ALMA - Chasing Highs\n",
       "channelID             UC9-JQq0wxUBItLsBOI3PckA\n",
       "views                                 35773447\n",
       "likes                                   251152\n",
       "dislikes                                 13389\n",
       "duration_secs                              210\n",
       "dateUploaded               2017-03-31 08:00:07\n",
       "dateFound                  2018-07-13 16:00:00\n",
       "discoveryTime_days                         469\n",
       "Name: w6DukrYK5wQ, dtype: object"
      ]
     },
     "execution_count": 2,
     "metadata": {},
     "output_type": "execute_result"
    }
   ],
   "source": [
    "song_df.iloc[0]"
   ]
  },
  {
   "cell_type": "code",
   "execution_count": 3,
   "metadata": {},
   "outputs": [
    {
     "name": "stdout",
     "output_type": "stream",
     "text": [
      "opened database successfully\n"
     ]
    }
   ],
   "source": [
    "import sqlite3\n",
    "\n",
    "conn = sqlite3.connect('songs_db.db')\n",
    "print('opened database successfully')"
   ]
  },
  {
   "cell_type": "code",
   "execution_count": 5,
   "metadata": {},
   "outputs": [
    {
     "data": {
      "text/plain": [
       "<sqlite3.Cursor at 0x26785363ea0>"
      ]
     },
     "execution_count": 5,
     "metadata": {},
     "output_type": "execute_result"
    }
   ],
   "source": [
    "# only execute if table needs to be created!\n",
    "\n",
    "conn.execute('''CREATE TABLE SONGS\n",
    "         (id TEXT PRIMARY KEY     NOT NULL,\n",
    "         title TEXT NOT NULL,\n",
    "         channelID TEXT NOT NULL,\n",
    "         views INT NOT NULL,\n",
    "         likes INT NOT NULL,\n",
    "         dislikes INT NOT NULL,\n",
    "         duration_secs INT NOT NULL,\n",
    "         dateUploaded DATETIME NOT NULL,\n",
    "         dateFound DATETIME NOT NULL,\n",
    "         discoveryTime INT NOT NULL);''')"
   ]
  },
  {
   "cell_type": "code",
   "execution_count": 4,
   "metadata": {},
   "outputs": [
    {
     "data": {
      "text/plain": [
       "<sqlite3.Cursor at 0x26785058570>"
      ]
     },
     "execution_count": 4,
     "metadata": {},
     "output_type": "execute_result"
    }
   ],
   "source": [
    "conn.execute('DROP TABLE SONGS')"
   ]
  },
  {
   "cell_type": "code",
   "execution_count": 7,
   "metadata": {},
   "outputs": [],
   "source": [
    "# can easily add new songs to database if needed. Would only need new song_df.\n",
    "for i in range(len(song_df.title)):\n",
    "    conn.execute('INSERT INTO SONGS (id, title, channelID, views, likes, dislikes, duration_secs, dateUploaded, dateFound, discoveryTime) \\\n",
    "        VALUES (?,?,?,?,?,?,?,?,?,?)',(\n",
    "        song_df.index[i],\n",
    "        song_df.title[i],\n",
    "        song_df.channelID[i],\n",
    "        int(song_df.views[i]),\n",
    "        int(song_df.likes[i]),\n",
    "        int(song_df.dislikes[i]),\n",
    "        int(song_df.duration_secs[i]),\n",
    "        song_df.dateUploaded[i],\n",
    "        song_df.dateFound[i],\n",
    "        int(song_df.discoveryTime_days[i])))"
   ]
  },
  {
   "cell_type": "code",
   "execution_count": 8,
   "metadata": {
    "scrolled": true
   },
   "outputs": [
    {
     "data": {
      "text/plain": [
       "[(4743,)]"
      ]
     },
     "execution_count": 8,
     "metadata": {},
     "output_type": "execute_result"
    }
   ],
   "source": [
    "conn.execute(\"\"\"SELECT COUNT(*) FROM SONGS\"\"\").fetchall()"
   ]
  },
  {
   "cell_type": "code",
   "execution_count": 9,
   "metadata": {},
   "outputs": [],
   "source": [
    "# save changes to database\n",
    "conn.commit()"
   ]
  },
  {
   "cell_type": "code",
   "execution_count": 10,
   "metadata": {},
   "outputs": [
    {
     "data": {
      "text/plain": [
       "[('xPg44HTRsPc',\n",
       "  \"The Mowgli's - Automatic (Audio)\",\n",
       "  'UCsssGsAo8-1k2hV72VRdMqg',\n",
       "  33209,\n",
       "  393,\n",
       "  12,\n",
       "  171,\n",
       "  '2016-09-30 14:56:10',\n",
       "  '2017-02-16 16:00:00',\n",
       "  232),\n",
       " ('N62VaLn4WwE',\n",
       "  'ZHU - Automatic (feat. AlunaGeorge)',\n",
       "  'UCJ2cGU-CskWXRmzql5RgjKg',\n",
       "  50600,\n",
       "  577,\n",
       "  16,\n",
       "  232,\n",
       "  '2015-11-06 16:06:47',\n",
       "  '2015-11-06 16:00:00',\n",
       "  105)]"
      ]
     },
     "execution_count": 10,
     "metadata": {},
     "output_type": "execute_result"
    }
   ],
   "source": [
    "conn.execute(\"\"\"SELECT * FROM SONGS WHERE TITLE LIKE '%Automatic%'\"\"\").fetchall()"
   ]
  }
 ],
 "metadata": {
  "kernelspec": {
   "display_name": "Python 3",
   "language": "python",
   "name": "python3"
  },
  "language_info": {
   "codemirror_mode": {
    "name": "ipython",
    "version": 3
   },
   "file_extension": ".py",
   "mimetype": "text/x-python",
   "name": "python",
   "nbconvert_exporter": "python",
   "pygments_lexer": "ipython3",
   "version": "3.6.5"
  }
 },
 "nbformat": 4,
 "nbformat_minor": 2
}
