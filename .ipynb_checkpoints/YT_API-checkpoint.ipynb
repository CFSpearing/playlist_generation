{
 "cells": [
  {
   "cell_type": "code",
   "execution_count": null,
   "metadata": {},
   "outputs": [],
   "source": [
    "################### YouTube API Data Extraction with Python ###################\n",
    "############################# Author: Tyler Blair #############################\n",
    "\n",
    "# This script will pull data from YouTube using their APIs. To do this,\n",
    "# you will have to set up API credentials with Google, which can be easily\n",
    "# done at console.developers.google.com\n",
    "\n",
    "# Additionally, this script pulls the YouTube API key from your system's\n",
    "# environmental variables. If you are unfamiliar with how to do this, I\n",
    "# have included the steps in the README.md file on my GitHub (tblair7)\n",
    "\n",
    "import os\n",
    "\n",
    "import requests\n",
    "import json\n",
    "from datetime import datetime\n",
    "import pandas as pd\n",
    "\n",
    "import google.oauth2.credentials\n",
    "\n",
    "import google_auth_oauthlib.flow\n",
    "from googleapiclient.discovery import build\n",
    "from googleapiclient.errors import HttpError\n",
    "from google_auth_oauthlib.flow import InstalledAppFlow\n",
    "\n",
    "##### you'll need to have already set your API key as an environmental ######\n",
    "##### variable before this point. If you haven't/don't want to do so   ######\n",
    "##### you can simply set it explicitly here: api_key = {'your key'}    ######\n",
    "api_key = os.environ.get('YT_API_KEY')\n",
    "\n",
    "\n",
    "################### only parameters you should need to set ###################\n",
    "# documentation of parameters you are able to use for playlistItems\n",
    "# https://developers.google.com/youtube/v3/docs/playlistItems#properties\n",
    "\n",
    "api_type = 'playlistItems' # e.g., videos, playlistItems, search as a string\n",
    "api_params = 'snippet, contentDetails' # e.g., 'id, contentDetails, statistics' as a string\n",
    "id = 'PLJpYtEF3No5PLMd9Z2dPtUm4CYH5xWR1y' # ID of the whatever api type you're utilizing\n",
    "\n",
    "maxResults = 2 # 0-250, though I've set 0 to mean no maximum so I can use it for my playlist\n",
    "\n",
    "## parameters I wish to retrieve from my playlist in the end ##\n",
    "#params_videos = \"id, contentDetails, statistics\"\n",
    "#params_playlist = \"snippet,contentDetails\" # playlist ID needed?\n",
    "\n",
    "##############################################################################\n",
    "\n",
    "\n",
    "if api_type == 'playlistItems':\n",
    "    parameters = {\"part\": api_params,\n",
    "                  \"playlistId\": id,\n",
    "                  \"key\": api_key}\n",
    "else:\n",
    "    parameters = {\"part\": api_params,\n",
    "                  \"playlistId\": id,\n",
    "                  \"key\": api_key}\n",
    "\n",
    "if maxResults == 0:\n",
    "    print('No maximum number of results returned')\n",
    "else:\n",
    "    parameters.update(dict(maxResults = maxResults))\n",
    "\n",
    "\n",
    "url_base = \"https://www.googleapis.com/youtube/v3/\"\n",
    "url = url_base + api_type\n",
    "\n",
    "page = requests.get(url = url,\n",
    "                    params = parameters)\n",
    "\n",
    "#page_playlist = requests.request(method = \"get\",\n",
    "#                                 url = url_videos,\n",
    "#                                 params=parameters_playlist) # if I change how I handle multiple requests\n",
    "\n",
    "j_results = json.loads(page.text)\n",
    "\n",
    "########## if you wish to visualize what data was actually retrieved ##########\n",
    "print (page.text)\n",
    "\n",
    "\n",
    "df = pd.io.json.json_normalize(j_results['items'])\n",
    "df.columns = df.columns.map(lambda x: x.split('.')[-1])\n"
   ]
  },
  {
   "cell_type": "code",
   "execution_count": null,
   "metadata": {},
   "outputs": [],
   "source": [
    "import sys,os,os.path\n",
    "sys.path.append(os.path.expanduser(C:\\Users\\tyler\\code\\"
   ]
  },
  {
   "cell_type": "code",
   "execution_count": 1,
   "metadata": {},
   "outputs": [
    {
     "data": {
      "text/plain": [
       "'C:\\\\Users\\\\tyler\\\\Jupyter_Notebooks\\\\GitHub\\\\music_taste'"
      ]
     },
     "execution_count": 1,
     "metadata": {},
     "output_type": "execute_result"
    }
   ],
   "source": [
    "pwd"
   ]
  },
  {
   "cell_type": "code",
   "execution_count": 3,
   "metadata": {},
   "outputs": [
    {
     "name": "stdout",
     "output_type": "stream",
     "text": [
      "C:\\Users\\tyler\n"
     ]
    }
   ],
   "source": [
    "from os.path import expanduser\n",
    "home = expanduser(\"~\")\n",
    "print(home)"
   ]
  },
  {
   "cell_type": "code",
   "execution_count": 5,
   "metadata": {},
   "outputs": [
    {
     "name": "stdout",
     "output_type": "stream",
     "text": [
      "None\n"
     ]
    }
   ],
   "source": [
    "api_key = os.environ.get('YT_API_KEY')\n",
    "print(api_key)"
   ]
  },
  {
   "cell_type": "code",
   "execution_count": null,
   "metadata": {},
   "outputs": [],
   "source": []
  }
 ],
 "metadata": {
  "kernelspec": {
   "display_name": "Python 3",
   "language": "python",
   "name": "python3"
  },
  "language_info": {
   "codemirror_mode": {
    "name": "ipython",
    "version": 3
   },
   "file_extension": ".py",
   "mimetype": "text/x-python",
   "name": "python",
   "nbconvert_exporter": "python",
   "pygments_lexer": "ipython3",
   "version": "3.6.5"
  }
 },
 "nbformat": 4,
 "nbformat_minor": 2
}
